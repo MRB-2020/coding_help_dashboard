{
 "cells": [
  {
   "cell_type": "code",
   "execution_count": 27,
   "metadata": {},
   "outputs": [],
   "source": [
    "import openai\n",
    "\n",
    "# Systema\n",
    "import os\n",
    "from dotenv import load_dotenv"
   ]
  },
  {
   "cell_type": "code",
   "execution_count": 28,
   "metadata": {},
   "outputs": [
    {
     "name": "stdout",
     "output_type": "stream",
     "text": [
      "API Key loaded successfully!\n"
     ]
    }
   ],
   "source": [
    "# Load environment variables from .env file\n",
    "load_dotenv()\n",
    "\n",
    "# Access environment variables\n",
    "api_key = os.getenv(\"OPENAI_API_KEY\")\n",
    "\n",
    "if api_key:\n",
    "    print(\"API Key loaded successfully!\")\n",
    "else:\n",
    "    print(\"Failed to load API Key.\")"
   ]
  },
  {
   "cell_type": "code",
   "execution_count": 30,
   "metadata": {},
   "outputs": [
    {
     "name": "stdout",
     "output_type": "stream",
     "text": [
      "Sure, here is a simple Python function that calculates Fibonacci numbers:\n",
      "\n",
      "```python\n",
      "def fibonacci(n):\n",
      "    if n <= 0:\n",
      "        print(\"Incorrect input\")\n",
      "    elif n == 1:\n",
      "        return 0\n",
      "    elif n == 2:\n",
      "        return 1\n",
      "    else:\n",
      "        a, b = 0, 1\n",
      "        for i in range(2, n):\n",
      "            a, b = b, a + b\n",
      "        return b\n",
      "\n",
      "# Test the function\n"
     ]
    }
   ],
   "source": [
    "try:\n",
    "    response = openai.chat.completions.create(\n",
    "        model=\"gpt-4\",\n",
    "        messages=[\n",
    "            {\"role\": \"system\", \"content\": \"You are a helpful assistant.\"},\n",
    "            {\"role\": \"user\", \"content\": \"Write a Python function to calculate Fibonacci numbers.\"}\n",
    "        ],\n",
    "        max_tokens=100,\n",
    "        temperature=0.5\n",
    "    )\n",
    "    print(response.choices[0].message.content)\n",
    "except openai.OpenAIError as e:  # Correct exception handling\n",
    "    print(f\"Error communicating with OpenAI API: {str(e)}\")"
   ]
  },
  {
   "cell_type": "code",
   "execution_count": 21,
   "metadata": {},
   "outputs": [],
   "source": [
    "AVAILABLE_MODELS = [\n",
    "    {\"id\": \"gpt-4o-mini\", \"description\": \"Cost-effective GPT-4 variant\"},\n",
    "    {\"id\": \"gpt-4\", \"description\": \"High-quality, general-purpose model\"},\n",
    "    {\"id\": \"gpt-3.5-turbo\", \"description\": \"Fast, cost-effective coding assistant\"},\n",
    "    {\"id\": \"gpt-3.5-turbo-instruct\", \"description\": \"Instruction-tuned for task-specific precision\"}\n",
    "]"
   ]
  },
  {
   "cell_type": "code",
   "execution_count": 22,
   "metadata": {},
   "outputs": [],
   "source": [
    "# Extract model IDs for the dropdown menu\n",
    "model_choices = [f\"{model['id']} - {model['description']}\" for model in AVAILABLE_MODELS]"
   ]
  },
  {
   "cell_type": "code",
   "execution_count": 23,
   "metadata": {},
   "outputs": [
    {
     "name": "stdout",
     "output_type": "stream",
     "text": [
      "['gpt-4o-mini - Cost-effective GPT-4 variant', 'gpt-4 - High-quality, general-purpose model', 'gpt-3.5-turbo - Fast, cost-effective coding assistant', 'gpt-3.5-turbo-instruct - Instruction-tuned for task-specific precision']\n"
     ]
    }
   ],
   "source": [
    "print(model_choices)"
   ]
  },
  {
   "cell_type": "code",
   "execution_count": 25,
   "metadata": {},
   "outputs": [
    {
     "name": "stdout",
     "output_type": "stream",
     "text": [
      "gpt-4o-mini\n",
      "Certainly! Below is a Python function that calculates Fibonacci numbers using both iterative and recursive methods. You can choose either method depending on your needs.\n",
      "\n",
      "### Iterative Method\n",
      "The iterative approach is more efficient for calculating Fibonacci numbers, especially for larger values of `n`.\n",
      "\n",
      "```python\n",
      "def fibonacci_iterative(n):\n",
      "    if n <= 0:\n",
      "        return \"Input should be a positive integer.\"\n",
      "    elif n == 1:\n",
      "        return 0\n",
      "    elif n == 2:\n",
      "        return \n",
      "gpt-4\n",
      "Sure, here's a simple Python function that calculates Fibonacci numbers using recursion:\n",
      "\n",
      "```python\n",
      "def fibonacci(n):\n",
      "    if n <= 0:\n",
      "        print(\"Input should be positive integer.\")\n",
      "    elif n == 1:\n",
      "        return 0\n",
      "    elif n == 2:\n",
      "        return 1\n",
      "    else:\n",
      "        return fibonacci(n-1) + fibonacci(n-2)\n",
      "```\n",
      "\n",
      "This function will return the n-th number in the Fibonacci series. Please note that this function uses a\n",
      "gpt-3.5-turbo\n",
      "Here is a Python function to calculate Fibonacci numbers using recursion:\n",
      "\n",
      "```python\n",
      "def fibonacci(n):\n",
      "    if n <= 1:\n",
      "        return n\n",
      "    else:\n",
      "        return fibonacci(n-1) + fibonacci(n-2)\n",
      "\n",
      "# Test the function\n",
      "n = 10\n",
      "for i in range(n):\n",
      "    print(fibonacci(i))\n",
      "```\n",
      "\n",
      "This function calculates the nth Fibonacci number by recursively summing the (n-1)th and (n-2)th Fibonacci numbers. You\n",
      "gpt-3.5-turbo-instruct\n",
      "Error communicating with OpenAI API: Error code: 404 - {'error': {'message': 'This is not a chat model and thus not supported in the v1/chat/completions endpoint. Did you mean to use v1/completions?', 'type': 'invalid_request_error', 'param': 'model', 'code': None}}\n"
     ]
    }
   ],
   "source": [
    "for model in model_choices:\n",
    "    model_id = model.split(\" - \")[0]\n",
    "    print(model_id)\n",
    "    try:\n",
    "        response = openai.chat.completions.create(\n",
    "            model=model_id,\n",
    "            messages=[\n",
    "                {\"role\": \"system\", \"content\": \"You are a helpful assistant.\"},\n",
    "                {\"role\": \"user\", \"content\": \"Write a Python function to calculate Fibonacci numbers.\"}\n",
    "            ],\n",
    "            max_tokens=100,\n",
    "            temperature=0.5\n",
    "        )\n",
    "        print(response.choices[0].message.content)\n",
    "    except openai.OpenAIError as e:  # Correct exception handling\n",
    "        print(f\"Error communicating with OpenAI API: {str(e)}\")"
   ]
  },
  {
   "cell_type": "code",
   "execution_count": 26,
   "metadata": {},
   "outputs": [
    {
     "name": "stdout",
     "output_type": "stream",
     "text": [
      "Sure, here is a simple Python function to calculate Fibonacci numbers:\n",
      "\n",
      "```python\n",
      "def fibonacci(n):\n",
      "    if n <= 0:\n",
      "        print(\"Input should be a positive integer\")\n",
      "    elif n == 1:\n",
      "        return 0\n",
      "    elif n == 2:\n",
      "        return 1\n",
      "    else:\n",
      "        a, b = 0, 1\n",
      "        for i in range(2, n):\n",
      "            a, b = b, a + b\n",
      "        return b\n",
      "\n"
     ]
    }
   ],
   "source": [
    "try:\n",
    "    response = openai.chat.completions.create(\n",
    "        model=\"gpt-4\",\n",
    "        messages=[\n",
    "            {\"role\": \"system\", \"content\": \"You are a helpful assistant.\"},\n",
    "            {\"role\": \"user\", \"content\": \"Write a Python function to calculate Fibonacci numbers.\"}\n",
    "        ],\n",
    "        max_tokens=100,\n",
    "        temperature=0.5\n",
    "    )\n",
    "    print(response.choices[0].message.content)\n",
    "except openai.OpenAIError as e:  # Correct exception handling\n",
    "    print(f\"Error communicating with OpenAI API: {str(e)}\")"
   ]
  }
 ],
 "metadata": {
  "kernelspec": {
   "display_name": "code_agents_kernel",
   "language": "python",
   "name": "code_agents_kernel"
  },
  "language_info": {
   "codemirror_mode": {
    "name": "ipython",
    "version": 3
   },
   "file_extension": ".py",
   "mimetype": "text/x-python",
   "name": "python",
   "nbconvert_exporter": "python",
   "pygments_lexer": "ipython3",
   "version": "3.11.5"
  }
 },
 "nbformat": 4,
 "nbformat_minor": 2
}
